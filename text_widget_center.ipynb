{
 "cells": [
  {
   "cell_type": "code",
   "execution_count": 12,
   "id": "6b7e4387",
   "metadata": {},
   "outputs": [],
   "source": [
    "# from ipywidgets import Text,Textarea,Button, GridBox, Layout, ButtonStyle,BoundedFloatText,interactive_output\n",
    "from ipywidgets import Text,Textarea,Button, HBox,VBox,HTML, VBox,Label, Layout\n",
    "from IPython.display import display\n"
   ]
  },
  {
   "cell_type": "code",
   "execution_count": 13,
   "id": "2bf14bd8",
   "metadata": {},
   "outputs": [
    {
     "data": {
      "application/vnd.jupyter.widget-view+json": {
       "model_id": "2b09778aba2646c7b3968794dd4dc62b",
       "version_major": 2,
       "version_minor": 0
      },
      "text/plain": [
       "VBox(children=(HBox(children=(Text(value='', layout=Layout(min_height='28px', min_width='15px', width='auto'),…"
      ]
     },
     "metadata": {},
     "output_type": "display_data"
    }
   ],
   "source": [
    "table_style = {'description_width': 'auto',}\n",
    "table_layout = {'width':'auto', 'min_width':'15px',  'min_height':'28px'}\n",
    "\n",
    "n=20\n",
    "t1 = [\n",
    "    Text(\n",
    "        layout=table_layout,\n",
    "        style=table_style\n",
    "    )\n",
    "    for _ in range(n)\n",
    "]\n",
    "t2 = [\n",
    "    Text(\n",
    "        layout=table_layout,\n",
    "        style=table_style\n",
    "    )\n",
    "    for _ in range(n)\n",
    "]\n",
    "display(\n",
    "    VBox(\n",
    "        [HBox(t1),HBox(t1)],\n",
    "        width='20%'\n",
    "    )\n",
    ")\n"
   ]
  },
  {
   "cell_type": "code",
   "execution_count": 10,
   "id": "6be0d940",
   "metadata": {},
   "outputs": [
    {
     "data": {
      "application/vnd.jupyter.widget-view+json": {
       "model_id": "04123c2423df4011816657e4b3003f7b",
       "version_major": 2,
       "version_minor": 0
      },
      "text/plain": [
       "HBox(children=(Text(value='Hi', layout=Layout(border='solid', justify_content='center', width='10%')), Text(va…"
      ]
     },
     "metadata": {},
     "output_type": "display_data"
    }
   ],
   "source": [
    "from ipywidgets import Text,Layout,Label,Button,HBox,HTML\n",
    "from IPython.display import display\n",
    "l =     layout=Layout(\n",
    "        justify_content=\"center\", \n",
    "        width=\"10%\", \n",
    "        border=\"solid\"\n",
    "    )\n",
    "\n",
    "t = Text(value=\"Hi\",layout=l)\n",
    "\n",
    "display(HBox([t,t,t]))"
   ]
  },
  {
   "cell_type": "code",
   "execution_count": null,
   "id": "3a3f0bfb",
   "metadata": {},
   "outputs": [],
   "source": [
    "# from ipywidgets import Label, Layout, HBox\n",
    "# from IPython.display import display\n",
    "\n",
    "# x = Label(\"Align Left\", layout=Layout(display=\"flex\", justify_content=\"flex-start\", width=\"30%\", border=\"solid\"))\n",
    "# y = Label(\"Align Center\", layout=Layout(display=\"flex\", justify_content=\"center\", width=\"30%\", border=\"solid\"))\n",
    "# z = Label(\"Align Right\", layout=Layout(display=\"flex\", justify_content=\"flex-end\", width=\"30%\", border=\"solid\"))\n",
    "# display(HBox([x,y,z]))"
   ]
  },
  {
   "cell_type": "code",
   "execution_count": null,
   "id": "ef34248f",
   "metadata": {},
   "outputs": [],
   "source": [
    "from ipywidgets import Text\n",
    "from IPython.display import display\n",
    "lo = layout=Layout(\n",
    "    display=\"grid\",\n",
    "    justify_content=\"center\", \n",
    "    width=\"20%\", \n",
    "    border=\"solid\"\n",
    ")\n",
    "\n",
    "\n",
    "display(Text(\"Hello\",layout=lo))"
   ]
  },
  {
   "cell_type": "code",
   "execution_count": 9,
   "id": "9452a4da",
   "metadata": {},
   "outputs": [
    {
     "data": {
      "application/vnd.jupyter.widget-view+json": {
       "model_id": "bd9a145e0a214c37bddccb5c667db518",
       "version_major": 2,
       "version_minor": 0
      },
      "text/plain": [
       "HTML(value='\\n<html>\\n<head>\\n<body>\\n<input size=20 type=\"text\" style=\"text-align:center\" value=\"Hi There\">\\n…"
      ]
     },
     "metadata": {},
     "output_type": "display_data"
    }
   ],
   "source": [
    "input_html = \"\"\"\n",
    "<html>\n",
    "<head>\n",
    "<body>\n",
    "<input size=20 type=\"text\" style=\"text-align:center\" value=\"Hi There\">\n",
    "</body>\n",
    "</html>\n",
    "\"\"\"\n",
    "my_widget = HTML(value=input_html,layout=Layout(width='50%',height=\"50%\"))\n",
    "display(my_widget)"
   ]
  },
  {
   "cell_type": "code",
   "execution_count": 8,
   "id": "c1c7c8fe",
   "metadata": {},
   "outputs": [
    {
     "data": {
      "application/vnd.jupyter.widget-view+json": {
       "model_id": "fee45a1f7f9c4c819c1edefc01dbc0a9",
       "version_major": 2,
       "version_minor": 0
      },
      "text/plain": [
       "HTML(value='\\n<html>\\n<head>\\n<style>\\n.grid-container {\\n  display: grid;\\n  grid-template-columns: 1fr 1fr 1…"
      ]
     },
     "metadata": {},
     "output_type": "display_data"
    }
   ],
   "source": [
    "ht = \"\"\"\n",
    "<html>\n",
    "<head>\n",
    "<style>\n",
    ".grid-container {\n",
    "  display: grid;\n",
    "  grid-template-columns: 1fr 1fr 1fr;\n",
    "  background-color: #2196F3;\n",
    "  padding: 5px;\n",
    "}\n",
    ".grid-item {\n",
    "  background-color: rgba(255, 255, 255, 0.8);\n",
    "  border: 1px solid rgba(0, 0, 0, 0.8);\n",
    "  padding: 20px;\n",
    "  font-size: 30px;\n",
    "  text-align: center;\n",
    "  size:10\n",
    "}\n",
    "</style>\n",
    "</head>\n",
    "<body>\n",
    "\n",
    "<div class=\"grid-container\">\n",
    "  <input size=1 type=\"text\" class=\"grid-item\">\n",
    "  <input size=1 type=\"text\" class=\"grid-item\">\n",
    "  <input size=1 type=\"text\" class=\"grid-item\">\n",
    "  <input size=1 type=\"text\" class=\"grid-item\">\n",
    "  <input size=1 type=\"text\" class=\"grid-item\">\n",
    "  <input size=1 type=\"text\" class=\"grid-item\">\n",
    "  <input size=1 type=\"text\" class=\"grid-item\">\n",
    "  <input size=1 type=\"text\" class=\"grid-item\">\n",
    "  <input size=1 type=\"text\" class=\"grid-item\">\n",
    "</div>\n",
    "\n",
    "</body>\n",
    "</html>\n",
    "\"\"\"\n",
    "\n",
    "htmlWidget = HTML(value = ht,layout=Layout(width='20%',heigh=\"50%\"))\n",
    "def ob(change):\n",
    "    print('hello')\n",
    "    print(change)\n",
    "htmlWidget.observe(ob,'value')\n",
    "display(htmlWidget)"
   ]
  },
  {
   "cell_type": "code",
   "execution_count": null,
   "id": "e9a6edf6",
   "metadata": {},
   "outputs": [],
   "source": [
    "%%html\n",
    "<style>\n",
    ".myclass {\n",
    "  border: 1px solid rgba(0, 0, 0, 0.8);\n",
    "  font-size: 30px;\n",
    "  text-align: center;\n",
    "  size:1\n",
    "}</style>\n"
   ]
  },
  {
   "cell_type": "code",
   "execution_count": null,
   "id": "7f86a5b0",
   "metadata": {},
   "outputs": [],
   "source": []
  },
  {
   "cell_type": "code",
   "execution_count": 1,
   "id": "f59f66f7",
   "metadata": {},
   "outputs": [
    {
     "data": {
      "application/vnd.jupyter.widget-view+json": {
       "model_id": "e1a5a47fa8734282b61eebde5e43f460",
       "version_major": 2,
       "version_minor": 0
      },
      "text/plain": [
       "HTML(value='\\n<html>\\n<head>\\n<body>\\n<input size=20 type=\"text\" style=\"text-align:center\" value=\"HTML\">\\n</bo…"
      ]
     },
     "metadata": {},
     "output_type": "display_data"
    },
    {
     "data": {
      "application/vnd.jupyter.widget-view+json": {
       "model_id": "2832c56c783147c0ac0c4fe65bf1dd23",
       "version_major": 2,
       "version_minor": 0
      },
      "text/plain": [
       "Text(value='Text')"
      ]
     },
     "metadata": {},
     "output_type": "display_data"
    },
    {
     "data": {
      "application/vnd.jupyter.widget-view+json": {
       "model_id": "aa9c5aa2995f48609c12a33b7f13b092",
       "version_major": 2,
       "version_minor": 0
      },
      "text/plain": [
       "Text(value='Text/Layout ', layout=Layout(border='solid', justify_content='center', width='50%'))"
      ]
     },
     "metadata": {},
     "output_type": "display_data"
    }
   ],
   "source": [
    "from ipywidgets import Text,HTML,Layout\n",
    "from IPython.display import display\n",
    "\n",
    "input_html = \"\"\"\n",
    "<html>\n",
    "<head>\n",
    "<body>\n",
    "<input size=20 type=\"text\" style=\"text-align:center\" value=\"HTML\">\n",
    "</body>\n",
    "</html>\n",
    "\"\"\"\n",
    "my_widget = HTML(value=input_html,layout=Layout(width='50%'))\n",
    "display(my_widget)\n",
    "display(Text(value = \"Text\"))\n",
    "\n",
    "mylayout = layout=Layout(\n",
    "    justify_content=\"center\", \n",
    "    width=\"50%\", \n",
    "    border=\"solid\"\n",
    ")\n",
    "\n",
    "display(Text(value=\"Text/Layout \",layout=mylayout))\n",
    "\n"
   ]
  },
  {
   "cell_type": "code",
   "execution_count": 7,
   "id": "9733afdd",
   "metadata": {},
   "outputs": [
    {
     "data": {
      "application/vnd.jupyter.widget-view+json": {
       "model_id": "c041d6fdf386418e89b112aac60dbdf6",
       "version_major": 2,
       "version_minor": 0
      },
      "text/plain": [
       "HBox(children=(Text(value='html'),), layout=Layout(align_items='center', display='flex', flex_flow='column', w…"
      ]
     },
     "metadata": {},
     "output_type": "display_data"
    }
   ],
   "source": [
    "from ipywidgets import Button,HBox\n",
    "btn = Text(\"html\")\n",
    "box_layout = Layout(display='flex',\n",
    "                flex_flow='column',\n",
    "                align_items='center',\n",
    "                width='50%')\n",
    "box = HBox(children=[btn],layout=box_layout)\n",
    "display(box)"
   ]
  },
  {
   "cell_type": "code",
   "execution_count": null,
   "id": "d658817c",
   "metadata": {},
   "outputs": [],
   "source": []
  }
 ],
 "metadata": {
  "kernelspec": {
   "display_name": "Python 3 (ipykernel)",
   "language": "python",
   "name": "python3"
  },
  "language_info": {
   "codemirror_mode": {
    "name": "ipython",
    "version": 3
   },
   "file_extension": ".py",
   "mimetype": "text/x-python",
   "name": "python",
   "nbconvert_exporter": "python",
   "pygments_lexer": "ipython3",
   "version": "3.10.8"
  }
 },
 "nbformat": 4,
 "nbformat_minor": 5
}
