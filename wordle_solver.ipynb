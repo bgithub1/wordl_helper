{
 "cells": [
  {
   "cell_type": "code",
   "execution_count": 1,
   "id": "7c963fe8",
   "metadata": {},
   "outputs": [],
   "source": [
    "import numpy as np\n",
    "import pandas as pd\n",
    "import datetime\n",
    "import pytz\n",
    "import requests\n",
    "import wordle_cheater as wrdlc\n",
    "from IPython import display"
   ]
  },
  {
   "cell_type": "markdown",
   "id": "8ff8bb4c",
   "metadata": {},
   "source": [
    "___\n",
    "### Basic usage of the ```wordle_cheater```\n",
    "\n",
    "Create an instance of the class ```wordl``` in the```wordle_cheater``` module to help solve for the wordle solution **whine**."
   ]
  },
  {
   "cell_type": "code",
   "execution_count": 2,
   "id": "636372a0",
   "metadata": {},
   "outputs": [],
   "source": [
    "# instantiate the wordl class\n",
    "wdl = wrdlc.wordl()\n",
    "# get todays word\n",
    "td_word = wdl.todays_word"
   ]
  },
  {
   "cell_type": "markdown",
   "id": "5db2310d",
   "metadata": {},
   "source": [
    "___\n",
    "### Add the word *alert* to the ```wdl``` instance.\n",
    "\n",
    "   * Each word that you add to the ```wordl``` instance requires an array of 5 integers between 1 and 3 (inclusive), for each off the 5 letters of the word that you add. \n",
    "   * The array of 5 integers between 1 and 3 tells the ```wordl.try_it()``` method one of 3 things about the respective letter:\n",
    "     1. if the letter is in the solution word, and the letter's position in the word is the same as the letter's position in the solution word, then the letter code is **1** for that letter;\n",
    "     2. if the letter is in the solution word, but NOT in the same position, then the letter code is **2**;\n",
    "     3. if the letter is NOT at all in the solution word, then the letter code is **3**.\n",
    "\n",
    "In the word **alert**:\n",
    "  1. The letter **a** is not in the word **whine**, so it's letter code = 3\n",
    "  2. The letter **l** is not in the word **whine**, so it's letter code = 3\n",
    "  3. The letter **e** is in the word **whine**, but NOT is the correct position, so it's letter code = 2\n",
    "  4. The letter **r** is not in the word **whine**, so it's letter code = 3\n",
    "  4. The letter **t** is not in the word **whine**, so it's letter code = 3\n",
    "\n",
    "So, for the word **alert**, the letter_codes array is:\n",
    "  * ```[3,3,2,3,3]```"
   ]
  },
  {
   "cell_type": "code",
   "execution_count": 3,
   "id": "75d4e939",
   "metadata": {},
   "outputs": [
    {
     "data": {
      "text/html": [
       "<div>\n",
       "<style scoped>\n",
       "    .dataframe tbody tr th:only-of-type {\n",
       "        vertical-align: middle;\n",
       "    }\n",
       "\n",
       "    .dataframe tbody tr th {\n",
       "        vertical-align: top;\n",
       "    }\n",
       "\n",
       "    .dataframe thead th {\n",
       "        text-align: right;\n",
       "    }\n",
       "</style>\n",
       "<table border=\"1\" class=\"dataframe\">\n",
       "  <thead>\n",
       "    <tr style=\"text-align: right;\">\n",
       "      <th></th>\n",
       "      <th>word</th>\n",
       "      <th>count</th>\n",
       "      <th>probability</th>\n",
       "    </tr>\n",
       "  </thead>\n",
       "  <tbody>\n",
       "    <tr>\n",
       "      <th>1</th>\n",
       "      <td>video</td>\n",
       "      <td>365410017</td>\n",
       "      <td>0.10670</td>\n",
       "    </tr>\n",
       "    <tr>\n",
       "      <th>2</th>\n",
       "      <td>phone</td>\n",
       "      <td>256643812</td>\n",
       "      <td>0.07494</td>\n",
       "    </tr>\n",
       "    <tr>\n",
       "      <th>3</th>\n",
       "      <td>index</td>\n",
       "      <td>242826246</td>\n",
       "      <td>0.07091</td>\n",
       "    </tr>\n",
       "    <tr>\n",
       "      <th>4</th>\n",
       "      <td>being</td>\n",
       "      <td>242783091</td>\n",
       "      <td>0.07090</td>\n",
       "    </tr>\n",
       "    <tr>\n",
       "      <th>5</th>\n",
       "      <td>women</td>\n",
       "      <td>242520455</td>\n",
       "      <td>0.07082</td>\n",
       "    </tr>\n",
       "    <tr>\n",
       "      <th>...</th>\n",
       "      <td>...</td>\n",
       "      <td>...</td>\n",
       "      <td>...</td>\n",
       "    </tr>\n",
       "    <tr>\n",
       "      <th>140</th>\n",
       "      <td>chide</td>\n",
       "      <td>66368</td>\n",
       "      <td>0.00002</td>\n",
       "    </tr>\n",
       "    <tr>\n",
       "      <th>141</th>\n",
       "      <td>bused</td>\n",
       "      <td>62772</td>\n",
       "      <td>0.00002</td>\n",
       "    </tr>\n",
       "    <tr>\n",
       "      <th>142</th>\n",
       "      <td>eying</td>\n",
       "      <td>31044</td>\n",
       "      <td>0.00001</td>\n",
       "    </tr>\n",
       "    <tr>\n",
       "      <th>143</th>\n",
       "      <td>eking</td>\n",
       "      <td>26695</td>\n",
       "      <td>0.00001</td>\n",
       "    </tr>\n",
       "    <tr>\n",
       "      <th>144</th>\n",
       "      <td>unfed</td>\n",
       "      <td>20266</td>\n",
       "      <td>0.00001</td>\n",
       "    </tr>\n",
       "  </tbody>\n",
       "</table>\n",
       "<p>144 rows × 3 columns</p>\n",
       "</div>"
      ],
      "text/plain": [
       "      word      count  probability\n",
       "1    video  365410017      0.10670\n",
       "2    phone  256643812      0.07494\n",
       "3    index  242826246      0.07091\n",
       "4    being  242783091      0.07090\n",
       "5    women  242520455      0.07082\n",
       "..     ...        ...          ...\n",
       "140  chide      66368      0.00002\n",
       "141  bused      62772      0.00002\n",
       "142  eying      31044      0.00001\n",
       "143  eking      26695      0.00001\n",
       "144  unfed      20266      0.00001\n",
       "\n",
       "[144 rows x 3 columns]"
      ]
     },
     "execution_count": 3,
     "metadata": {},
     "output_type": "execute_result"
    }
   ],
   "source": [
    "# add the word 'alert' to the instance\n",
    "wdl.add_word('alert',[3,3,2,3,3])\n",
    "df = wrdlc.filter_words(wdl.try_it()) \n",
    "df.probability = df.probability.round(5)\n",
    "df"
   ]
  },
  {
   "cell_type": "markdown",
   "id": "545e14bb",
   "metadata": {},
   "source": [
    "___\n",
    "### Add the word *noisy* to the ```wdl``` instance.\n",
    "\n",
    "In the word **noisy**:\n",
    "  1. The letter **n** is in the word **whine**, but NOT is the correct position, so it's letter code = 2\n",
    "  2. The letter **o** is not in the word **whine**, so it's letter code = 3\n",
    "  3. The letter **i** is in the word **whine**, AND it is in the correct position, so it's letter code = 1\n",
    "  4. The letter **s** is not in the word **whine**, so it's letter code = 3\n",
    "  4. The letter **t** is not in the word **whine**, so it's letter code = 3\n",
    "\n",
    "So, for the word **noisy**, the letter_codes array is:\n",
    "  * ```[2,3,1,3,3]```"
   ]
  },
  {
   "cell_type": "code",
   "execution_count": 4,
   "id": "b519f146",
   "metadata": {},
   "outputs": [
    {
     "data": {
      "text/html": [
       "<div>\n",
       "<style scoped>\n",
       "    .dataframe tbody tr th:only-of-type {\n",
       "        vertical-align: middle;\n",
       "    }\n",
       "\n",
       "    .dataframe tbody tr th {\n",
       "        vertical-align: top;\n",
       "    }\n",
       "\n",
       "    .dataframe thead th {\n",
       "        text-align: right;\n",
       "    }\n",
       "</style>\n",
       "<table border=\"1\" class=\"dataframe\">\n",
       "  <thead>\n",
       "    <tr style=\"text-align: right;\">\n",
       "      <th></th>\n",
       "      <th>word</th>\n",
       "      <th>count</th>\n",
       "      <th>probability</th>\n",
       "    </tr>\n",
       "  </thead>\n",
       "  <tbody>\n",
       "    <tr>\n",
       "      <th>1</th>\n",
       "      <td>being</td>\n",
       "      <td>242783091</td>\n",
       "      <td>0.95152</td>\n",
       "    </tr>\n",
       "    <tr>\n",
       "      <th>2</th>\n",
       "      <td>knife</td>\n",
       "      <td>11297715</td>\n",
       "      <td>0.04428</td>\n",
       "    </tr>\n",
       "    <tr>\n",
       "      <th>3</th>\n",
       "      <td>whine</td>\n",
       "      <td>832743</td>\n",
       "      <td>0.00326</td>\n",
       "    </tr>\n",
       "    <tr>\n",
       "      <th>4</th>\n",
       "      <td>feign</td>\n",
       "      <td>116753</td>\n",
       "      <td>0.00046</td>\n",
       "    </tr>\n",
       "    <tr>\n",
       "      <th>5</th>\n",
       "      <td>deign</td>\n",
       "      <td>94806</td>\n",
       "      <td>0.00037</td>\n",
       "    </tr>\n",
       "    <tr>\n",
       "      <th>6</th>\n",
       "      <td>eking</td>\n",
       "      <td>26695</td>\n",
       "      <td>0.00010</td>\n",
       "    </tr>\n",
       "  </tbody>\n",
       "</table>\n",
       "</div>"
      ],
      "text/plain": [
       "    word      count  probability\n",
       "1  being  242783091      0.95152\n",
       "2  knife   11297715      0.04428\n",
       "3  whine     832743      0.00326\n",
       "4  feign     116753      0.00046\n",
       "5  deign      94806      0.00037\n",
       "6  eking      26695      0.00010"
      ]
     },
     "execution_count": 4,
     "metadata": {},
     "output_type": "execute_result"
    }
   ],
   "source": [
    "wdl.add_word('noisy',[2,3,1,3,3])\n",
    "df = wrdlc.filter_words(wdl.try_it()) \n",
    "df.probability = df.probability.round(5)\n",
    "df"
   ]
  },
  {
   "cell_type": "markdown",
   "id": "016ff2e5",
   "metadata": {},
   "source": [
    "### Since *being* is the most probable word, add it\n",
    "\n",
    "In the word **being**:\n",
    "  1. The letter **b** is not in the word **whine**, so it's letter code = 3\n",
    "  2. The letter **e**  is in the word **whine**, BUT is is NOT in the correct position, so it's letter code = 2\n",
    "  3. The letter **i** is in the word **whine**, AND it is in the correct position, so it's letter code = 1\n",
    "  4. The letter **n** is in the word **whine**, AND it is in the correct position, so it's letter code = 1\n",
    "  4. The letter **g** is not in the word **whine**, so it's letter code = 3\n",
    "\n",
    "So, for the word **being**, the letter_codes array is:\n",
    "  * ```[3,2,1,1,3]```"
   ]
  },
  {
   "cell_type": "code",
   "execution_count": 5,
   "id": "01a5b966",
   "metadata": {},
   "outputs": [
    {
     "data": {
      "text/html": [
       "<div>\n",
       "<style scoped>\n",
       "    .dataframe tbody tr th:only-of-type {\n",
       "        vertical-align: middle;\n",
       "    }\n",
       "\n",
       "    .dataframe tbody tr th {\n",
       "        vertical-align: top;\n",
       "    }\n",
       "\n",
       "    .dataframe thead th {\n",
       "        text-align: right;\n",
       "    }\n",
       "</style>\n",
       "<table border=\"1\" class=\"dataframe\">\n",
       "  <thead>\n",
       "    <tr style=\"text-align: right;\">\n",
       "      <th></th>\n",
       "      <th>word</th>\n",
       "      <th>count</th>\n",
       "      <th>probability</th>\n",
       "    </tr>\n",
       "  </thead>\n",
       "  <tbody>\n",
       "    <tr>\n",
       "      <th>1</th>\n",
       "      <td>whine</td>\n",
       "      <td>832743</td>\n",
       "      <td>1.0</td>\n",
       "    </tr>\n",
       "  </tbody>\n",
       "</table>\n",
       "</div>"
      ],
      "text/plain": [
       "    word   count  probability\n",
       "1  whine  832743          1.0"
      ]
     },
     "execution_count": 5,
     "metadata": {},
     "output_type": "execute_result"
    }
   ],
   "source": [
    "wdl.add_word('being',[3,2,1,1,3])\n",
    "df = wrdlc.filter_words(wdl.try_it()) \n",
    "df.probability = df.probability.round(5)\n",
    "df"
   ]
  },
  {
   "cell_type": "markdown",
   "id": "cd5fae85",
   "metadata": {},
   "source": [
    "___\n",
    "### The only word left is *whine*.\n",
    "___"
   ]
  },
  {
   "cell_type": "markdown",
   "id": "439a50c2",
   "metadata": {},
   "source": [
    "___\n",
    "### Methods to create the letter lists automatically"
   ]
  },
  {
   "cell_type": "code",
   "execution_count": 6,
   "id": "7a9ebca2",
   "metadata": {},
   "outputs": [],
   "source": [
    "def get_letter_list(your_word,the_word):\n",
    "    nums =[]\n",
    "    for i,l in enumerate(list(your_word)):\n",
    "        if l == the_word[i]:\n",
    "            nums.append(1)\n",
    "        elif l in the_word:\n",
    "            nums.append(2)\n",
    "        else:\n",
    "            nums.append(3)\n",
    "    return nums    \n",
    "        \n",
    "def letter_list_to_str(letter_list):\n",
    "    return ''.join(\n",
    "        [str(v) for v in letter_list]\n",
    "    )\n",
    "def get_filter(your_word,the_word):\n",
    "    letter_string = letter_list_to_str(get_letter_list(your_word,td_word))\n",
    "    return your_word + \",\" + letter_string"
   ]
  },
  {
   "cell_type": "markdown",
   "id": "21a56b5b",
   "metadata": {},
   "source": [
    "### Below are methods that will find the solution to the the word, given the date, and your 2 first words.\n"
   ]
  },
  {
   "cell_type": "code",
   "execution_count": 22,
   "id": "75efb989",
   "metadata": {},
   "outputs": [
    {
     "data": {
      "text/html": [
       "<div>\n",
       "<style scoped>\n",
       "    .dataframe tbody tr th:only-of-type {\n",
       "        vertical-align: middle;\n",
       "    }\n",
       "\n",
       "    .dataframe tbody tr th {\n",
       "        vertical-align: top;\n",
       "    }\n",
       "\n",
       "    .dataframe thead th {\n",
       "        text-align: right;\n",
       "    }\n",
       "</style>\n",
       "<table border=\"1\" class=\"dataframe\">\n",
       "  <thead>\n",
       "    <tr style=\"text-align: right;\">\n",
       "      <th></th>\n",
       "      <th>word</th>\n",
       "      <th>count</th>\n",
       "      <th>probability</th>\n",
       "    </tr>\n",
       "  </thead>\n",
       "  <tbody>\n",
       "    <tr>\n",
       "      <th>1</th>\n",
       "      <td>excel</td>\n",
       "      <td>14133468</td>\n",
       "      <td>1.0</td>\n",
       "    </tr>\n",
       "  </tbody>\n",
       "</table>\n",
       "</div>"
      ],
      "text/plain": [
       "    word     count  probability\n",
       "1  excel  14133468          1.0"
      ]
     },
     "execution_count": 22,
     "metadata": {},
     "output_type": "execute_result"
    }
   ],
   "source": [
    "wdl2 = wrdlc.wordl()\n",
    "\n",
    "solution = wdl2.df_word_history.iloc[7].solution.lower()\n",
    "for w in ['alert','noisy']:\n",
    "    wdl2.add_word(w,get_letter_list(w,solution))\n",
    "df = wrdlc.filter_words(wdl2.try_it()) \n",
    "df.probability = df.probability.round(5)\n",
    "df\n",
    "    "
   ]
  },
  {
   "cell_type": "code",
   "execution_count": 19,
   "id": "0de7486e",
   "metadata": {},
   "outputs": [
    {
     "data": {
      "text/plain": [
       "'excel'"
      ]
     },
     "execution_count": 19,
     "metadata": {},
     "output_type": "execute_result"
    }
   ],
   "source": []
  },
  {
   "cell_type": "code",
   "execution_count": 9,
   "id": "aa2252ab",
   "metadata": {},
   "outputs": [],
   "source": [
    "# define your first 2 words\n",
    "initial_words = ['alert','noisy']\n",
    "# create initial filter string that gets used in the url for the \n",
    "#   http call to the wordl server at http://127.0.0.1:8000/wordl\n",
    "initial_filters = ','.join(\n",
    "    np.array(\n",
    "        [\n",
    "            get_filter(word,get_filter(word,td_word))\n",
    "            for word in initial_words\n",
    "        ]\n",
    "    ).reshape(-1).tolist()\n",
    ")\n",
    "\n",
    "# The loop below will populate the string called filters.  \n",
    "#   This string will be added to during the for loop below.\n",
    "filters = initial_filters\n",
    "# results_list holds DataFrames that show possible words after \n",
    "#   words are added to the filters string, and the server is called again\n",
    "results_list = []\n",
    "for _ in range(3):\n",
    "    url = f'http://127.0.0.1:8000/wordl?filters={filters}'\n",
    "    response = requests.get(url)\n",
    "    resp_dict = response.json()    \n",
    "    df_results = pd.DataFrame(resp_dict)\n",
    "    results_list.append(df_results.copy())\n",
    "    if len(df_results)<=1:\n",
    "        break\n",
    "    next_word = df_results.iloc[0].word\n",
    "    new_filter = get_filter(next_word,td_word)\n",
    "    filters = filters + \",\" + new_filter\n",
    "    "
   ]
  },
  {
   "cell_type": "markdown",
   "id": "aa39ce84",
   "metadata": {},
   "source": [
    "### Show resulting DataFrames"
   ]
  },
  {
   "cell_type": "code",
   "execution_count": 10,
   "id": "928e136a",
   "metadata": {},
   "outputs": [
    {
     "data": {
      "text/html": [
       "<div>\n",
       "<style scoped>\n",
       "    .dataframe tbody tr th:only-of-type {\n",
       "        vertical-align: middle;\n",
       "    }\n",
       "\n",
       "    .dataframe tbody tr th {\n",
       "        vertical-align: top;\n",
       "    }\n",
       "\n",
       "    .dataframe thead th {\n",
       "        text-align: right;\n",
       "    }\n",
       "</style>\n",
       "<table border=\"1\" class=\"dataframe\">\n",
       "  <thead>\n",
       "    <tr style=\"text-align: right;\">\n",
       "      <th></th>\n",
       "      <th>word</th>\n",
       "      <th>count</th>\n",
       "      <th>probability</th>\n",
       "    </tr>\n",
       "  </thead>\n",
       "  <tbody>\n",
       "    <tr>\n",
       "      <th>0</th>\n",
       "      <td>shirt</td>\n",
       "      <td>40501964</td>\n",
       "      <td>0.58533</td>\n",
       "    </tr>\n",
       "    <tr>\n",
       "      <th>1</th>\n",
       "      <td>strip</td>\n",
       "      <td>18711440</td>\n",
       "      <td>0.27042</td>\n",
       "    </tr>\n",
       "    <tr>\n",
       "      <th>2</th>\n",
       "      <td>skirt</td>\n",
       "      <td>9981485</td>\n",
       "      <td>0.14425</td>\n",
       "    </tr>\n",
       "  </tbody>\n",
       "</table>\n",
       "</div>"
      ],
      "text/plain": [
       "    word     count  probability\n",
       "0  shirt  40501964      0.58533\n",
       "1  strip  18711440      0.27042\n",
       "2  skirt   9981485      0.14425"
      ]
     },
     "metadata": {},
     "output_type": "display_data"
    },
    {
     "data": {
      "text/html": [
       "<div>\n",
       "<style scoped>\n",
       "    .dataframe tbody tr th:only-of-type {\n",
       "        vertical-align: middle;\n",
       "    }\n",
       "\n",
       "    .dataframe tbody tr th {\n",
       "        vertical-align: top;\n",
       "    }\n",
       "\n",
       "    .dataframe thead th {\n",
       "        text-align: right;\n",
       "    }\n",
       "</style>\n",
       "<table border=\"1\" class=\"dataframe\">\n",
       "  <thead>\n",
       "    <tr style=\"text-align: right;\">\n",
       "      <th></th>\n",
       "      <th>word</th>\n",
       "      <th>count</th>\n",
       "      <th>probability</th>\n",
       "    </tr>\n",
       "  </thead>\n",
       "  <tbody>\n",
       "    <tr>\n",
       "      <th>0</th>\n",
       "      <td>skirt</td>\n",
       "      <td>9981485</td>\n",
       "      <td>1.0</td>\n",
       "    </tr>\n",
       "  </tbody>\n",
       "</table>\n",
       "</div>"
      ],
      "text/plain": [
       "    word    count  probability\n",
       "0  skirt  9981485          1.0"
      ]
     },
     "metadata": {},
     "output_type": "display_data"
    }
   ],
   "source": [
    "for df_rl in results_list:\n",
    "    display.display(df_rl)"
   ]
  },
  {
   "cell_type": "code",
   "execution_count": null,
   "id": "7181daf0",
   "metadata": {},
   "outputs": [],
   "source": []
  }
 ],
 "metadata": {
  "kernelspec": {
   "display_name": "Python 3 (ipykernel)",
   "language": "python",
   "name": "python3"
  },
  "language_info": {
   "codemirror_mode": {
    "name": "ipython",
    "version": 3
   },
   "file_extension": ".py",
   "mimetype": "text/x-python",
   "name": "python",
   "nbconvert_exporter": "python",
   "pygments_lexer": "ipython3",
   "version": "3.10.4"
  }
 },
 "nbformat": 4,
 "nbformat_minor": 5
}
