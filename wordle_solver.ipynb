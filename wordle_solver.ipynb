{
 "cells": [
  {
   "cell_type": "code",
   "execution_count": 56,
   "id": "0d66fcc1",
   "metadata": {},
   "outputs": [],
   "source": [
    "import numpy as np\n",
    "import pandas as pd\n",
    "import datetime\n",
    "import pytz\n",
    "import wordle_cheater as wrdlc\n",
    "from IPython import display"
   ]
  },
  {
   "cell_type": "code",
   "execution_count": 3,
   "id": "3d5ebfde",
   "metadata": {},
   "outputs": [
    {
     "data": {
      "text/html": [
       "<div>\n",
       "<style scoped>\n",
       "    .dataframe tbody tr th:only-of-type {\n",
       "        vertical-align: middle;\n",
       "    }\n",
       "\n",
       "    .dataframe tbody tr th {\n",
       "        vertical-align: top;\n",
       "    }\n",
       "\n",
       "    .dataframe thead th {\n",
       "        text-align: right;\n",
       "    }\n",
       "</style>\n",
       "<table border=\"1\" class=\"dataframe\">\n",
       "  <thead>\n",
       "    <tr style=\"text-align: right;\">\n",
       "      <th></th>\n",
       "      <th>word</th>\n",
       "      <th>count</th>\n",
       "      <th>probability</th>\n",
       "    </tr>\n",
       "  </thead>\n",
       "  <tbody>\n",
       "    <tr>\n",
       "      <th>1</th>\n",
       "      <td>being</td>\n",
       "      <td>242783091</td>\n",
       "      <td>0.95152</td>\n",
       "    </tr>\n",
       "    <tr>\n",
       "      <th>2</th>\n",
       "      <td>knife</td>\n",
       "      <td>11297715</td>\n",
       "      <td>0.04428</td>\n",
       "    </tr>\n",
       "    <tr>\n",
       "      <th>3</th>\n",
       "      <td>whine</td>\n",
       "      <td>832743</td>\n",
       "      <td>0.00326</td>\n",
       "    </tr>\n",
       "    <tr>\n",
       "      <th>4</th>\n",
       "      <td>feign</td>\n",
       "      <td>116753</td>\n",
       "      <td>0.00046</td>\n",
       "    </tr>\n",
       "    <tr>\n",
       "      <th>5</th>\n",
       "      <td>deign</td>\n",
       "      <td>94806</td>\n",
       "      <td>0.00037</td>\n",
       "    </tr>\n",
       "    <tr>\n",
       "      <th>6</th>\n",
       "      <td>eking</td>\n",
       "      <td>26695</td>\n",
       "      <td>0.00010</td>\n",
       "    </tr>\n",
       "  </tbody>\n",
       "</table>\n",
       "</div>"
      ],
      "text/plain": [
       "    word      count  probability\n",
       "1  being  242783091      0.95152\n",
       "2  knife   11297715      0.04428\n",
       "3  whine     832743      0.00326\n",
       "4  feign     116753      0.00046\n",
       "5  deign      94806      0.00037\n",
       "6  eking      26695      0.00010"
      ]
     },
     "execution_count": 3,
     "metadata": {},
     "output_type": "execute_result"
    }
   ],
   "source": [
    "wdl = wrdlc.wordl()\n",
    "wdl.add_word('alert',[3,3,2,3,3])\n",
    "wdl.add_word('noisy',[2,3,1,3,3])\n",
    "df = wrdlc.filter_words(wdl.try_it()) \n",
    "df.probability = df.probability.round(5)\n",
    "df"
   ]
  },
  {
   "cell_type": "code",
   "execution_count": 28,
   "id": "d4290c4c",
   "metadata": {},
   "outputs": [],
   "source": [
    "td_word = wdl.todays_word"
   ]
  },
  {
   "cell_type": "code",
   "execution_count": 46,
   "id": "83c7ab1d",
   "metadata": {},
   "outputs": [],
   "source": [
    "def get_letter_list(your_word,the_word):\n",
    "    nums =[]\n",
    "    for i,l in enumerate(list(your_word)):\n",
    "        if l == the_word[i]:\n",
    "            nums.append(1)\n",
    "        elif l in the_word:\n",
    "            nums.append(2)\n",
    "        else:\n",
    "            nums.append(3)\n",
    "    return nums    \n",
    "        \n",
    "def letter_list_to_str(letter_list):\n",
    "    return ''.join(\n",
    "        [str(v) for v in letter_list]\n",
    "    )\n",
    "def get_filter(your_word,the_word):\n",
    "    letter_string = letter_list_to_str(get_letter_list(your_word,td_word))\n",
    "    return your_word + \",\" + letter_string"
   ]
  },
  {
   "cell_type": "code",
   "execution_count": 54,
   "id": "0347ea4d",
   "metadata": {},
   "outputs": [],
   "source": [
    "initial_words = ['alert','noisy']\n",
    "initial_filters = ','.join(\n",
    "    np.array(\n",
    "        [\n",
    "            get_filter(word,get_filter(word,td_word))\n",
    "            for word in initial_words\n",
    "        ]\n",
    "    ).reshape(-1).tolist()\n",
    ")\n",
    "\n",
    "filters = initial_filters\n",
    "\n",
    "results_list = []\n",
    "for _ in range(3):\n",
    "    url = f'http://127.0.0.1:8000/wordl?filters={filters}'\n",
    "    response = requests.get(url)\n",
    "    resp_dict = response.json()    \n",
    "    df_results = pd.DataFrame(resp_dict)\n",
    "    results_list.append(df_results.copy())\n",
    "    if len(df_results)<=1:\n",
    "        break\n",
    "    next_word = df_results.iloc[0].word\n",
    "    new_filter = get_filter(next_word,td_word)\n",
    "    filters = filters + \",\" + new_filter\n",
    "    "
   ]
  },
  {
   "cell_type": "code",
   "execution_count": 58,
   "id": "0e4d1769",
   "metadata": {},
   "outputs": [
    {
     "data": {
      "text/html": [
       "<div>\n",
       "<style scoped>\n",
       "    .dataframe tbody tr th:only-of-type {\n",
       "        vertical-align: middle;\n",
       "    }\n",
       "\n",
       "    .dataframe tbody tr th {\n",
       "        vertical-align: top;\n",
       "    }\n",
       "\n",
       "    .dataframe thead th {\n",
       "        text-align: right;\n",
       "    }\n",
       "</style>\n",
       "<table border=\"1\" class=\"dataframe\">\n",
       "  <thead>\n",
       "    <tr style=\"text-align: right;\">\n",
       "      <th></th>\n",
       "      <th>word</th>\n",
       "      <th>count</th>\n",
       "      <th>probability</th>\n",
       "    </tr>\n",
       "  </thead>\n",
       "  <tbody>\n",
       "    <tr>\n",
       "      <th>0</th>\n",
       "      <td>shirt</td>\n",
       "      <td>40501964</td>\n",
       "      <td>0.80228</td>\n",
       "    </tr>\n",
       "    <tr>\n",
       "      <th>1</th>\n",
       "      <td>skirt</td>\n",
       "      <td>9981485</td>\n",
       "      <td>0.19772</td>\n",
       "    </tr>\n",
       "  </tbody>\n",
       "</table>\n",
       "</div>"
      ],
      "text/plain": [
       "    word     count  probability\n",
       "0  shirt  40501964      0.80228\n",
       "1  skirt   9981485      0.19772"
      ]
     },
     "metadata": {},
     "output_type": "display_data"
    },
    {
     "data": {
      "text/html": [
       "<div>\n",
       "<style scoped>\n",
       "    .dataframe tbody tr th:only-of-type {\n",
       "        vertical-align: middle;\n",
       "    }\n",
       "\n",
       "    .dataframe tbody tr th {\n",
       "        vertical-align: top;\n",
       "    }\n",
       "\n",
       "    .dataframe thead th {\n",
       "        text-align: right;\n",
       "    }\n",
       "</style>\n",
       "<table border=\"1\" class=\"dataframe\">\n",
       "  <thead>\n",
       "    <tr style=\"text-align: right;\">\n",
       "      <th></th>\n",
       "      <th>word</th>\n",
       "      <th>count</th>\n",
       "      <th>probability</th>\n",
       "    </tr>\n",
       "  </thead>\n",
       "  <tbody>\n",
       "    <tr>\n",
       "      <th>0</th>\n",
       "      <td>skirt</td>\n",
       "      <td>9981485</td>\n",
       "      <td>1.0</td>\n",
       "    </tr>\n",
       "  </tbody>\n",
       "</table>\n",
       "</div>"
      ],
      "text/plain": [
       "    word    count  probability\n",
       "0  skirt  9981485          1.0"
      ]
     },
     "metadata": {},
     "output_type": "display_data"
    }
   ],
   "source": [
    "for df_rl in results_list:\n",
    "    display.display(df_rl)"
   ]
  },
  {
   "cell_type": "code",
   "execution_count": 33,
   "id": "03b69426",
   "metadata": {},
   "outputs": [
    {
     "data": {
      "text/plain": [
       "('http://127.0.0.1:8000/wordl?filters=alert,33311,noisy,33123',\n",
       " 'http://127.0.0.1:8000/wordl?filters=alert,33233,noisy,23133')"
      ]
     },
     "execution_count": 33,
     "metadata": {},
     "output_type": "execute_result"
    }
   ],
   "source": [
    "url = f'http://127.0.0.1:8000/wordl?filters={filters}'\n",
    "url,'http://127.0.0.1:8000/wordl?filters=alert,33233,noisy,23133'"
   ]
  },
  {
   "cell_type": "code",
   "execution_count": 38,
   "id": "d4eb6a7e",
   "metadata": {},
   "outputs": [
    {
     "data": {
      "text/plain": [
       "[{'word': 'shirt', 'count': 40501964, 'probability': 0.80228},\n",
       " {'word': 'skirt', 'count': 9981485, 'probability': 0.19772}]"
      ]
     },
     "execution_count": 38,
     "metadata": {},
     "output_type": "execute_result"
    }
   ],
   "source": [
    "import requests\n",
    "resp_dict"
   ]
  },
  {
   "cell_type": "code",
   "execution_count": 39,
   "id": "1758327e",
   "metadata": {},
   "outputs": [
    {
     "data": {
      "text/html": [
       "<div>\n",
       "<style scoped>\n",
       "    .dataframe tbody tr th:only-of-type {\n",
       "        vertical-align: middle;\n",
       "    }\n",
       "\n",
       "    .dataframe tbody tr th {\n",
       "        vertical-align: top;\n",
       "    }\n",
       "\n",
       "    .dataframe thead th {\n",
       "        text-align: right;\n",
       "    }\n",
       "</style>\n",
       "<table border=\"1\" class=\"dataframe\">\n",
       "  <thead>\n",
       "    <tr style=\"text-align: right;\">\n",
       "      <th></th>\n",
       "      <th>word</th>\n",
       "      <th>count</th>\n",
       "      <th>probability</th>\n",
       "    </tr>\n",
       "  </thead>\n",
       "  <tbody>\n",
       "    <tr>\n",
       "      <th>0</th>\n",
       "      <td>shirt</td>\n",
       "      <td>40501964</td>\n",
       "      <td>0.80228</td>\n",
       "    </tr>\n",
       "    <tr>\n",
       "      <th>1</th>\n",
       "      <td>skirt</td>\n",
       "      <td>9981485</td>\n",
       "      <td>0.19772</td>\n",
       "    </tr>\n",
       "  </tbody>\n",
       "</table>\n",
       "</div>"
      ],
      "text/plain": [
       "    word     count  probability\n",
       "0  shirt  40501964      0.80228\n",
       "1  skirt   9981485      0.19772"
      ]
     },
     "execution_count": 39,
     "metadata": {},
     "output_type": "execute_result"
    }
   ],
   "source": []
  },
  {
   "cell_type": "code",
   "execution_count": null,
   "id": "3b1acb6e",
   "metadata": {},
   "outputs": [],
   "source": [
    "if"
   ]
  }
 ],
 "metadata": {
  "kernelspec": {
   "display_name": "Python 3 (ipykernel)",
   "language": "python",
   "name": "python3"
  },
  "language_info": {
   "codemirror_mode": {
    "name": "ipython",
    "version": 3
   },
   "file_extension": ".py",
   "mimetype": "text/x-python",
   "name": "python",
   "nbconvert_exporter": "python",
   "pygments_lexer": "ipython3",
   "version": "3.10.4"
  }
 },
 "nbformat": 4,
 "nbformat_minor": 5
}
