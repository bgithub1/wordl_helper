{
 "cells": [
  {
   "cell_type": "code",
   "execution_count": 1,
   "id": "e085a68b",
   "metadata": {},
   "outputs": [],
   "source": [
    "import itertools\n",
    "import string\n",
    "import numpy as np\n",
    "import ipywidgets as widgets\n",
    "from IPython.display import display\n",
    "import tqdm\n",
    "import pdb\n",
    "\n",
    "import pandas as pd\n",
    "from nltk.corpus import words\n"
   ]
  },
  {
   "cell_type": "code",
   "execution_count": 2,
   "id": "4e06a456",
   "metadata": {},
   "outputs": [
    {
     "data": {
      "text/plain": [
       "(65780.0, 24.0)"
      ]
     },
     "execution_count": 2,
     "metadata": {},
     "output_type": "execute_result"
    }
   ],
   "source": [
    "def fact(x):\n",
    "    return np.linspace(1,x,x).prod()\n",
    "def nck(n,k):\n",
    "    return fact(n)/(fact(k)*fact(n-k))\n",
    "nck(26,5),fact(4)"
   ]
  },
  {
   "cell_type": "code",
   "execution_count": null,
   "id": "1f4bf427",
   "metadata": {},
   "outputs": [],
   "source": []
  },
  {
   "cell_type": "code",
   "execution_count": 3,
   "id": "b8d973f4",
   "metadata": {},
   "outputs": [],
   "source": [
    "def new_condition(word,letter_status):\n",
    "    good_letters = []\n",
    "    for i,letter in enumerate(list(word)):\n",
    "        if letter_status[i]<3:\n",
    "            good_letters.append(letter)\n",
    "    def inner_test(w):\n",
    "        new_conditions = []\n",
    "        for i,letter in enumerate(list(word)):\n",
    "            if letter_status[i]==0:\n",
    "                new_conditions.append(\n",
    "                    letter in w \n",
    "                )                \n",
    "            elif letter_status[i]==1:\n",
    "                new_conditions.append(\n",
    "                    letter in w[i] \n",
    "                )                \n",
    "            elif letter_status[i]==2:\n",
    "                new_conditions.append(\n",
    "                    (letter in w) and (letter not in w[i])\n",
    "                )\n",
    "            else:\n",
    "                new_conditions.append(\n",
    "                    letter not in w\n",
    "                )\n",
    "        return new_conditions\n",
    "    return inner_test,good_letters\n",
    "\n",
    "class wordl():\n",
    "    def __init__(self,show_progress=True):\n",
    "        self.wordlist = []\n",
    "        self.letter_list = []\n",
    "        self.letter_status = []\n",
    "        self.conditions = []\n",
    "        self.show_progress = show_progress\n",
    "        all_words = set(\n",
    "            words.words()\n",
    "        )\n",
    "        self.nltk_words =  set(\n",
    "            [\n",
    "                wo \n",
    "                for wo in all_words\n",
    "                if (len(wo)==5) and (wo.lower()==wo)\n",
    "            ]\n",
    "        )\n",
    "    \n",
    "    def add_word(self,word,letter_status,debug_word=''):\n",
    "        self.wordlist.append(word)\n",
    "        self.letter_status.append(letter_status)\n",
    "        condition_list,letter_list = new_condition(word,letter_status)\n",
    "        self.conditions.append(condition_list)\n",
    "        self.letter_list.extend(letter_list)\n",
    "        self.letter_list = list(set(self.letter_list))\n",
    "    \n",
    "    def conds(self,w):\n",
    "        cond_results = []\n",
    "        for i in range(len(self.conditions)):\n",
    "            cond_results.extend(self.conditions[i](w))\n",
    "        return all(cond_results)\n",
    "    \n",
    "#     def try_it(self,letter_list=None):\n",
    "#         words = []\n",
    "#         curr_lets = self.letter_list if letter_list is None else letter_list\n",
    "#         # get all letters that have not yet been identified as letters in the target word\n",
    "#         all_letters = set(string.ascii_lowercase).difference(set(curr_lets))\n",
    "        \n",
    "#         # create an enumeration of all permutations of these remaining letters by grouping them\n",
    "#         #  into possible words where the size of each word is 5-len(curr_lets)\n",
    "#         num_letters_left_to_solve = 5-len(curr_lets)\n",
    "#         iterable = enumerate(itertools.permutations(all_letters, num_letters_left_to_solve))\n",
    "#         # see if we want to show progress\n",
    "#         if self.show_progress:\n",
    "#             iterable = tqdm.tqdm(iterable)\n",
    "                             \n",
    "#         for i,v in iterable:\n",
    "#             # v is a list of letters.  Make it a word\n",
    "#             v2 = ''.join(v)\n",
    "#             # find all ordering) of the letters in the word curr_lets+list(v)\n",
    "#             word_to_permute = curr_lets+list(v)\n",
    "#             for k in itertools.permutations(word_to_permute,5):\n",
    "#                 # k is a list. make it a word\n",
    "#                 k2 = ''.join(k)\n",
    "#                 # find the word in nltk\n",
    "#                 if k2 in self.nltk_words:\n",
    "#                     # get the word part of the first value returned by nltk\n",
    "#                     c1 = self.conds(k2)\n",
    "#                     c2 = k2 not in words\n",
    "#                     c3 = all([l in k2 for l in curr_lets])\n",
    "#                     if all([c1,c2,c3]):\n",
    "#                         words.append(k2)\n",
    "#         return words\n",
    "\n",
    "    def try_it(self,letter_list=None):\n",
    "        words = []\n",
    "        curr_lets = self.letter_list if letter_list is None else letter_list\n",
    "        poss_words = [\n",
    "            w for w in self.nltk_words\n",
    "            if len(set(curr_lets).intersection(w))==len(curr_lets)\n",
    "        ]\n",
    "        for w in poss_words:\n",
    "            if self.conds(w):\n",
    "                words.append(w)\n",
    "        return words\n",
    "        \n",
    " "
   ]
  },
  {
   "cell_type": "code",
   "execution_count": 24,
   "id": "4bd94545",
   "metadata": {},
   "outputs": [],
   "source": [
    "# uncomment to re-create df_wordl_words.csv\n",
    "# wdl = wordl()\n",
    "# pd.DataFrame({'word':list(wdl.nltk_words)}).to_csv('df_wordl_words.csv',index=False)\n"
   ]
  },
  {
   "cell_type": "code",
   "execution_count": 4,
   "id": "1032144e",
   "metadata": {
    "scrolled": true
   },
   "outputs": [],
   "source": [
    "# DO_MAX_WORDS = True\n",
    "# if DO_MAX_WORDS:\n",
    "#     max_words = []\n",
    "#     max_num_words = 0\n",
    "#     for subset in tqdm.tqdm(itertools.combinations(string.ascii_lowercase,5)):\n",
    "#         wd = wordl(show_progress=False)\n",
    "#         word = ''.join(subset)\n",
    "#         wd.add_word(word,[0,0,0,0,0])\n",
    "#         words = wd.try_it()\n",
    "#         if len(words)>max_num_words:\n",
    "#             max_words = [word]\n",
    "#             max_num_words = len(words)\n",
    "#         if len(words)==max_num_words:\n",
    "#             max_words.append(word)\n",
    "#     wd = wordl(show_progress=False)\n",
    "#     word = max_words[0]\n",
    "#     wd.add_word(word,[0,0,0,0,0])\n",
    "#     print(wd.try_it())\n",
    "            "
   ]
  },
  {
   "cell_type": "code",
   "execution_count": null,
   "id": "d4b01aec",
   "metadata": {},
   "outputs": [],
   "source": []
  },
  {
   "cell_type": "code",
   "execution_count": 5,
   "id": "a73a2cda",
   "metadata": {},
   "outputs": [
    {
     "name": "stdout",
     "output_type": "stream",
     "text": [
      "CPU times: user 126 ms, sys: 14.3 ms, total: 140 ms\n",
      "Wall time: 143 ms\n"
     ]
    },
    {
     "data": {
      "text/plain": [
       "['infer', 'inker']"
      ]
     },
     "execution_count": 5,
     "metadata": {},
     "output_type": "execute_result"
    }
   ],
   "source": [
    "%%time\n",
    "# infer\n",
    "wdl = wordl()\n",
    "wdl.add_word('slate',[3,3,3,3,2])\n",
    "wdl.add_word('minor',[3,2,2,3,1])\n",
    "# wdl.add_word('stare',[0,0,0,0,0])\n",
    "\n",
    "wdl.try_it()"
   ]
  },
  {
   "cell_type": "code",
   "execution_count": 6,
   "id": "bff46708",
   "metadata": {},
   "outputs": [
    {
     "name": "stdout",
     "output_type": "stream",
     "text": [
      "CPU times: user 134 ms, sys: 5.95 ms, total: 140 ms\n",
      "Wall time: 140 ms\n"
     ]
    },
    {
     "data": {
      "text/plain": [
       "['boost',\n",
       " 'tsubo',\n",
       " 'tossy',\n",
       " 'tousy',\n",
       " 'joust',\n",
       " 'ghost',\n",
       " 'toshy',\n",
       " 'toosh',\n",
       " 'coost']"
      ]
     },
     "execution_count": 6,
     "metadata": {},
     "output_type": "execute_result"
    }
   ],
   "source": [
    "%%time\n",
    "# joust\n",
    "wdl = wordl()\n",
    "wdl.add_word('slate',[2,3,3,2,3])\n",
    "# t\n",
    "wdl.add_word('minor',[3,3,3,2,3])\n",
    "# ost\n",
    "# wdl.add_word('stare',[0,0,0,0,0])\n",
    "\n",
    "wdl.try_it()"
   ]
  },
  {
   "cell_type": "code",
   "execution_count": 7,
   "id": "7829a3d5",
   "metadata": {},
   "outputs": [
    {
     "name": "stdout",
     "output_type": "stream",
     "text": [
      "CPU times: user 134 ms, sys: 6.14 ms, total: 140 ms\n",
      "Wall time: 145 ms\n"
     ]
    },
    {
     "data": {
      "text/plain": [
       "['boost',\n",
       " 'tsubo',\n",
       " 'tossy',\n",
       " 'tousy',\n",
       " 'joust',\n",
       " 'ghost',\n",
       " 'toshy',\n",
       " 'toosh',\n",
       " 'coost']"
      ]
     },
     "execution_count": 7,
     "metadata": {},
     "output_type": "execute_result"
    }
   ],
   "source": [
    "%%time\n",
    "# \n",
    "wdl = wordl()\n",
    "wdl.add_word('slate',[2,3,3,2,3])\n",
    "wdl.add_word('minor',[3,3,3,2,3])\n",
    "# wdl.add_word('stare',[0,0,0,0,0])\n",
    "\n",
    "wdl.try_it()"
   ]
  },
  {
   "cell_type": "code",
   "execution_count": null,
   "id": "36b2acc0",
   "metadata": {},
   "outputs": [],
   "source": []
  },
  {
   "cell_type": "code",
   "execution_count": 8,
   "id": "52f49b91",
   "metadata": {},
   "outputs": [
    {
     "data": {
      "text/plain": [
       "['vraic',\n",
       " 'braid',\n",
       " 'fraid',\n",
       " 'graip',\n",
       " 'ajari',\n",
       " 'acari',\n",
       " 'fraik',\n",
       " 'izard',\n",
       " 'urari']"
      ]
     },
     "execution_count": 8,
     "metadata": {},
     "output_type": "execute_result"
    }
   ],
   "source": [
    "# braid\n",
    "wdl = wordl()\n",
    "wdl.add_word('slate',[3,3,1,3,3])\n",
    "wdl.add_word('minor',[3,2,3,3,2])\n",
    "# wdl.add_word('stare',[0,0,0,0,0])\n",
    "\n",
    "wdl.try_it()"
   ]
  },
  {
   "cell_type": "code",
   "execution_count": 9,
   "id": "5a435690",
   "metadata": {},
   "outputs": [
    {
     "data": {
      "text/plain": [
       "['knock', 'unown', 'known']"
      ]
     },
     "execution_count": 9,
     "metadata": {},
     "output_type": "execute_result"
    }
   ],
   "source": [
    "wdl = wordl()\n",
    "wdl.add_word('slate',[3,3,3,3,3])\n",
    "wdl.add_word('minor',[3,3,2,2,3])\n",
    "wdl.add_word('goony',[3,2,1,2,3])\n",
    "wdl.try_it()"
   ]
  },
  {
   "cell_type": "code",
   "execution_count": null,
   "id": "b5bd8649",
   "metadata": {},
   "outputs": [],
   "source": []
  },
  {
   "cell_type": "code",
   "execution_count": null,
   "id": "a955b626",
   "metadata": {},
   "outputs": [],
   "source": []
  },
  {
   "cell_type": "code",
   "execution_count": 10,
   "id": "dd958743",
   "metadata": {},
   "outputs": [
    {
     "data": {
      "application/vnd.jupyter.widget-view+json": {
       "model_id": "436c1ed73c3e4de4848c8571fd1dc055",
       "version_major": 2,
       "version_minor": 0
      },
      "text/plain": [
       "IntSlider(value=0)"
      ]
     },
     "metadata": {},
     "output_type": "display_data"
    },
    {
     "data": {
      "application/vnd.jupyter.widget-view+json": {
       "model_id": "45a927647b0e4cf0bdedc8459d04f9aa",
       "version_major": 2,
       "version_minor": 0
      },
      "text/plain": [
       "Text(value='0', disabled=True)"
      ]
     },
     "metadata": {},
     "output_type": "display_data"
    }
   ],
   "source": [
    "w = widgets.IntSlider()\n",
    "display(w)\n",
    "t = widgets.Text(value=str(w.value), disabled=True)\n",
    "wt_link = widgets.jslink((w, 'value'), (t, 'value'))\n",
    "display(t)"
   ]
  },
  {
   "cell_type": "code",
   "execution_count": null,
   "id": "49657d77",
   "metadata": {},
   "outputs": [],
   "source": []
  },
  {
   "cell_type": "code",
   "execution_count": null,
   "id": "7326e839",
   "metadata": {},
   "outputs": [],
   "source": []
  },
  {
   "cell_type": "code",
   "execution_count": 11,
   "id": "068f2272",
   "metadata": {},
   "outputs": [
    {
     "data": {
      "text/html": [
       "<style>\n",
       ".mytext {\n",
       "    font-weight: bold;\n",
       "    color: blue;\n",
       "    font-size:100px;\n",
       "    text-align:center;\n",
       "}\n",
       "</style>\n"
      ],
      "text/plain": [
       "<IPython.core.display.HTML object>"
      ]
     },
     "metadata": {},
     "output_type": "display_data"
    }
   ],
   "source": [
    "%%html\n",
    "<style>\n",
    ".mytext {\n",
    "    font-weight: bold;\n",
    "    color: blue;\n",
    "    font-size:100px;\n",
    "    text-align:center;\n",
    "}\n",
    "</style>\n"
   ]
  },
  {
   "cell_type": "code",
   "execution_count": 17,
   "id": "fc01bdee",
   "metadata": {},
   "outputs": [
    {
     "data": {
      "application/vnd.jupyter.widget-view+json": {
       "model_id": "f2b5570ecc454ba9a4017036779564f9",
       "version_major": 2,
       "version_minor": 0
      },
      "text/plain": [
       "VBox(children=(GridBox(children=(Text(value='', layout=Layout(min_height='28px', min_width='15px', width='auto…"
      ]
     },
     "metadata": {},
     "output_type": "display_data"
    },
    {
     "name": "stdout",
     "output_type": "stream",
     "text": [
      "-----------\n",
      "slate [3, 3, 3, 3, 3]\n",
      "-----------\n",
      "minor [3, 3, 2, 2, 3]\n",
      "-----------\n",
      "goony [3, 2, 1, 2, 3]\n",
      "['knock', 'unown', 'known']\n"
     ]
    }
   ],
   "source": [
    "table_style = {'description_width': 'auto'}\n",
    "table_layout = {'width':'auto', 'min_width':'15px',  'min_height':'28px'}\n",
    "\n",
    "num_tboxes = 5\n",
    "tboxes = [\n",
    "    widgets.Text(\n",
    "        layout=table_layout,\n",
    "        style=table_style\n",
    "    )\n",
    "    for i in range(num_tboxes)\n",
    "]  \n",
    "\n",
    "dropdowns = [\n",
    "    widgets.Dropdown(\n",
    "        options=[str(i) for i in [0,1,2,3]],\n",
    "        value='3',\n",
    "        layout=table_layout,\n",
    "        style=table_style\n",
    "    )\n",
    "    for _ in range(num_tboxes)\n",
    "]\n",
    "\n",
    "wd_box = wordl()\n",
    "\n",
    "def on_add_word_button_clicked(change):\n",
    "    print('-----------')\n",
    "    word = ''.join(\n",
    "        [\n",
    "            tbox.value\n",
    "            for tbox in tboxes\n",
    "        ]\n",
    "    )\n",
    "    nums = [\n",
    "        int(dropdown.value)\n",
    "        for dropdown in dropdowns\n",
    "    ]\n",
    "    print(word,nums)\n",
    "    wd_box.add_word(word,nums)\n",
    "\n",
    "button_add_word = widgets.Button(\n",
    "    description='add_word',\n",
    "    layout=widgets.Layout(width='auto', height='auto')\n",
    ")\n",
    "button_add_word.on_click(on_add_word_button_clicked)\n",
    "\n",
    "\n",
    "def on_try_it_button_clicked(change):\n",
    "    words = wd_box.try_it()\n",
    "    print(words)\n",
    "\n",
    "button_tryit = widgets.Button(\n",
    "    description='try_it',\n",
    "    layout=widgets.Layout(width='auto', height='auto')\n",
    ")\n",
    "button_tryit.on_click(on_try_it_button_clicked)\n",
    "\n",
    "perc=35\n",
    "gbox1 = widgets.GridBox(\n",
    "#     children=tboxes+dropdowns+[widgets.HBox([button_add_word,button_tryit])],\n",
    "    children=tboxes+dropdowns,\n",
    "    layout=widgets.Layout(\n",
    "        display='grid',\n",
    "        width=f'{perc}%',\n",
    "        height='auto',\n",
    "        grid_template_rows='1fr 1fr',\n",
    "        grid_template_columns=' '.join(['auto' for _ in range(len(tboxes))])\n",
    "    )\n",
    ")\n",
    "\n",
    "for tbox in tboxes:\n",
    "    tbox.add_class('mytext')\n",
    "\n",
    "gbox2 = widgets.HBox(\n",
    "    children=[button_add_word,button_tryit],\n",
    "    layout=widgets.Layout(\n",
    "        display='grid',\n",
    "        width=f'{perc}%',\n",
    "        height='auto',\n",
    "        grid_template_rows='1fr',\n",
    "        grid_template_columns=' '.join(['auto' for _ in range(2)])\n",
    "    )\n",
    ")\n",
    "\n",
    "\n",
    "gbox3 = widgets.VBox([gbox1,gbox2],width=f'{perc}%')\n",
    "display(gbox3)"
   ]
  },
  {
   "cell_type": "code",
   "execution_count": null,
   "id": "64aa7a35",
   "metadata": {},
   "outputs": [],
   "source": []
  },
  {
   "cell_type": "code",
   "execution_count": 23,
   "id": "1b9a449d",
   "metadata": {},
   "outputs": [],
   "source": []
  },
  {
   "cell_type": "code",
   "execution_count": 14,
   "id": "bcbd661a",
   "metadata": {},
   "outputs": [
    {
     "name": "stdout",
     "output_type": "stream",
     "text": [
      "CPU times: user 4.03 ms, sys: 49 µs, total: 4.08 ms\n",
      "Wall time: 4.36 ms\n"
     ]
    },
    {
     "data": {
      "text/plain": [
       "3003"
      ]
     },
     "execution_count": 14,
     "metadata": {},
     "output_type": "execute_result"
    }
   ],
   "source": [
    "%%time\n",
    "ss = [\n",
    "    w\n",
    "    for w in wdl.nltk_words\n",
    "    if len(set(w))<5\n",
    "]\n",
    "len(ss)"
   ]
  },
  {
   "cell_type": "code",
   "execution_count": null,
   "id": "fd967a35",
   "metadata": {},
   "outputs": [],
   "source": []
  },
  {
   "cell_type": "code",
   "execution_count": null,
   "id": "cfa15484",
   "metadata": {},
   "outputs": [],
   "source": []
  },
  {
   "cell_type": "code",
   "execution_count": null,
   "id": "cb5bc2d4",
   "metadata": {},
   "outputs": [],
   "source": []
  }
 ],
 "metadata": {
  "kernelspec": {
   "display_name": "Python 3 (ipykernel)",
   "language": "python",
   "name": "python3"
  },
  "language_info": {
   "codemirror_mode": {
    "name": "ipython",
    "version": 3
   },
   "file_extension": ".py",
   "mimetype": "text/x-python",
   "name": "python",
   "nbconvert_exporter": "python",
   "pygments_lexer": "ipython3",
   "version": "3.10.8"
  }
 },
 "nbformat": 4,
 "nbformat_minor": 5
}
